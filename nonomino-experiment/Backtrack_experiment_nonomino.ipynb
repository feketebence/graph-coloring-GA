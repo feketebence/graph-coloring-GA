{
 "cells": [
  {
   "cell_type": "code",
   "execution_count": 18,
   "metadata": {},
   "outputs": [],
   "source": [
    "import networkx as nx\n",
    "from datetime import datetime\n",
    "import time\n",
    "import scipy as sp\n",
    "import numpy as np"
   ]
  },
  {
   "cell_type": "markdown",
   "metadata": {},
   "source": [
    "# Converting input to NetworkX graph"
   ]
  },
  {
   "cell_type": "code",
   "execution_count": 31,
   "metadata": {},
   "outputs": [
    {
     "name": "stdout",
     "output_type": "stream",
     "text": [
      "1: \t9,1 [color_value:9, group_value: 1]\n",
      "2: \t0,1 [color_value:0, group_value: 1]\n",
      "3: \t3,1 [color_value:3, group_value: 1]\n",
      "4: \t0,1 [color_value:0, group_value: 1]\n",
      "5: \t0,2 [color_value:0, group_value: 2]\n",
      "6: \t8,3 [color_value:8, group_value: 3]\n",
      "7: \t4,3 [color_value:4, group_value: 3]\n",
      "8: \t2,3 [color_value:2, group_value: 3]\n",
      "9: \t7,3 [color_value:7, group_value: 3]\n",
      "10: \t1,1 [color_value:1, group_value: 1]\n",
      "11: \t4,1 [color_value:4, group_value: 1]\n",
      "12: \t7,1 [color_value:7, group_value: 1]\n",
      "13: \t8,2 [color_value:8, group_value: 2]\n",
      "14: \t2,2 [color_value:2, group_value: 2]\n",
      "15: \t5,2 [color_value:5, group_value: 2]\n",
      "16: \t6,2 [color_value:6, group_value: 2]\n",
      "17: \t9,3 [color_value:9, group_value: 3]\n",
      "18: \t3,3 [color_value:3, group_value: 3]\n",
      "19: \t3,4 [color_value:3, group_value: 4]\n",
      "20: \t0,1 [color_value:0, group_value: 1]\n",
      "21: \t0,1 [color_value:0, group_value: 1]\n",
      "22: \t0,2 [color_value:0, group_value: 2]\n",
      "23: \t9,2 [color_value:9, group_value: 2]\n",
      "24: \t7,2 [color_value:7, group_value: 2]\n",
      "25: \t5,3 [color_value:5, group_value: 3]\n",
      "26: \t6,3 [color_value:6, group_value: 3]\n",
      "27: \t0,3 [color_value:0, group_value: 3]\n",
      "28: \t0,4 [color_value:0, group_value: 4]\n",
      "29: \t0,4 [color_value:0, group_value: 4]\n",
      "30: \t4,4 [color_value:4, group_value: 4]\n",
      "31: \t3,2 [color_value:3, group_value: 2]\n",
      "32: \t0,5 [color_value:0, group_value: 5]\n",
      "33: \t6,5 [color_value:6, group_value: 5]\n",
      "34: \t0,5 [color_value:0, group_value: 5]\n",
      "35: \t8,6 [color_value:8, group_value: 6]\n",
      "36: \t2,6 [color_value:2, group_value: 6]\n",
      "37: \t0,4 [color_value:0, group_value: 4]\n",
      "38: \t0,4 [color_value:0, group_value: 4]\n",
      "39: \t0,4 [color_value:0, group_value: 4]\n",
      "40: \t9,7 [color_value:9, group_value: 7]\n",
      "41: \t0,5 [color_value:0, group_value: 5]\n",
      "42: \t0,5 [color_value:0, group_value: 5]\n",
      "43: \t2,5 [color_value:2, group_value: 5]\n",
      "44: \t7,6 [color_value:7, group_value: 6]\n",
      "45: \t4,6 [color_value:4, group_value: 6]\n",
      "46: \t0,4 [color_value:0, group_value: 4]\n",
      "47: \t2,4 [color_value:2, group_value: 4]\n",
      "48: \t0,7 [color_value:0, group_value: 7]\n",
      "49: \t5,7 [color_value:5, group_value: 7]\n",
      "50: \t8,8 [color_value:8, group_value: 8]\n",
      "51: \t0,5 [color_value:0, group_value: 5]\n",
      "52: \t9,6 [color_value:9, group_value: 6]\n",
      "53: \t0,6 [color_value:0, group_value: 6]\n",
      "54: \t6,6 [color_value:6, group_value: 6]\n",
      "55: \t2,7 [color_value:2, group_value: 7]\n",
      "56: \t0,7 [color_value:0, group_value: 7]\n",
      "57: \t0,7 [color_value:0, group_value: 7]\n",
      "58: \t0,8 [color_value:0, group_value: 8]\n",
      "59: \t4,8 [color_value:4, group_value: 8]\n",
      "60: \t9,5 [color_value:9, group_value: 5]\n",
      "61: \t8,5 [color_value:8, group_value: 5]\n",
      "62: \t1,6 [color_value:1, group_value: 6]\n",
      "63: \t0,6 [color_value:0, group_value: 6]\n",
      "64: \t4,7 [color_value:4, group_value: 7]\n",
      "65: \t6,8 [color_value:6, group_value: 8]\n",
      "66: \t0,8 [color_value:0, group_value: 8]\n",
      "67: \t2,8 [color_value:2, group_value: 8]\n",
      "68: \t3,8 [color_value:3, group_value: 8]\n",
      "69: \t1,8 [color_value:1, group_value: 8]\n",
      "70: \t7,9 [color_value:7, group_value: 9]\n",
      "71: \t5,9 [color_value:5, group_value: 9]\n",
      "72: \t0,9 [color_value:0, group_value: 9]\n",
      "73: \t8,7 [color_value:8, group_value: 7]\n",
      "74: \t7,7 [color_value:7, group_value: 7]\n",
      "75: \t0,8 [color_value:0, group_value: 8]\n",
      "76: \t0,9 [color_value:0, group_value: 9]\n",
      "77: \t6,9 [color_value:6, group_value: 9]\n",
      "78: \t0,9 [color_value:0, group_value: 9]\n",
      "79: \t3,9 [color_value:3, group_value: 9]\n",
      "80: \t0,9 [color_value:0, group_value: 9]\n",
      "81: \t9,9 [color_value:9, group_value: 9]\n",
      "Number of empty cells:  30\n"
     ]
    }
   ],
   "source": [
    "board_color_vals = []\n",
    "board_group_vals = []\n",
    "\n",
    "path_to_solved = \"inputs/n8_00/n8_00_solved.txt\"\n",
    "path_to_30empty = \"inputs/n8_00/n8_00_30empty.txt\"\n",
    "path_to_10empty = \"inputs/n8_00/n8_00_10empty.txt\"\n",
    "\n",
    "\n",
    "# input format for nonomino: <color_value>,<group_value>\n",
    "with open(path_to_30empty, \"r\") as n_file:\n",
    "    lines = n_file.readlines()\n",
    "    \n",
    "i = 1\n",
    "empty_count = 0\n",
    "for line in lines:\n",
    "    line = line.strip()\n",
    "    color_value, group_value = line.split(\",\")\n",
    "    \n",
    "    board_color_vals.append(int(color_value))\n",
    "    board_group_vals.append(int(group_value))\n",
    "    \n",
    "    if int(color_value) == 0:\n",
    "        empty_count += 1\n",
    "    \n",
    "    print(str(i) + \": \\t\" + line + \" [color_value:\" + color_value + \", group_value: \" + group_value + \"]\")\n",
    "    i+=1\n",
    "\n",
    "print(\"Number of empty cells: \", empty_count)"
   ]
  },
  {
   "cell_type": "code",
   "execution_count": 32,
   "metadata": {},
   "outputs": [
    {
     "name": "stdout",
     "output_type": "stream",
     "text": [
      "GRID_SIZE = 9 \n",
      "SQ_GRID = 3\n"
     ]
    }
   ],
   "source": [
    "GRID_SIZE = int(len(board_color_vals) ** 0.5)\n",
    "SQ_GRID = int(GRID_SIZE ** 0.5)\n",
    "print(\"GRID_SIZE =\",GRID_SIZE, \"\\nSQ_GRID =\", SQ_GRID)"
   ]
  },
  {
   "cell_type": "code",
   "execution_count": 33,
   "metadata": {},
   "outputs": [],
   "source": [
    "def init_nonomino_board(board_group_vals):\n",
    "    nonomino = nx.Graph()\n",
    "    \n",
    "    # adding nodes\n",
    "    nonomino.add_nodes_from([\n",
    "        (i, {\"color\": 0, \"fixed\": False}) for i in range(GRID_SIZE ** 2)\n",
    "    ])\n",
    "\n",
    "    unfiltered_neigh = []\n",
    "    # Adding edges \n",
    "    # adding traditional row and column edges\n",
    "    for i in range(GRID_SIZE):\n",
    "        for j in range(GRID_SIZE):\n",
    "            # \n",
    "            row_neighbours = [(i * GRID_SIZE + j, i * GRID_SIZE + x) for x in range(GRID_SIZE) if x != j]\n",
    "            col_neighbours = [(i * GRID_SIZE + j, x * GRID_SIZE + j) for x in range(GRID_SIZE) if x != i]\n",
    "\n",
    "            unfiltered_neigh += row_neighbours + col_neighbours\n",
    "\n",
    "    # adding nonomino specific edges\n",
    "    nonomino_neighbours = []\n",
    "    for i in range(0,len(board_group_vals)):\n",
    "            for j in range(len(board_group_vals)):\n",
    "                if board_group_vals[i] == board_group_vals[j] and i != j:\n",
    "                    nonomino_neighbours.append((i, j))\n",
    "\n",
    "    unfiltered_neigh += nonomino_neighbours\n",
    "\n",
    "    # delete multiple edges between two nodes\n",
    "    filtered_neigh = list(set(unfiltered_neigh))\n",
    "    \n",
    "    # add the edges to the graph\n",
    "    nonomino.add_edges_from(filtered_neigh)\n",
    "    \n",
    "    return filtered_neigh, nonomino"
   ]
  },
  {
   "cell_type": "code",
   "execution_count": 34,
   "metadata": {},
   "outputs": [],
   "source": [
    "# convert a given list \"board\" to networkx board \n",
    "def board_to_nx(sudoku, board):\n",
    "    for i in range(GRID_SIZE):\n",
    "        for j in range(GRID_SIZE):\n",
    "            idx = i * GRID_SIZE + j\n",
    "            \n",
    "            if board[idx] != 0:\n",
    "                # 'fixed' means that the color of that node cannot be changed (during mutation or crossover)\n",
    "                sudoku.nodes[idx]['fixed'] = True\n",
    "                sudoku.nodes[idx]['color'] = board[idx]\n",
    "    return sudoku"
   ]
  },
  {
   "cell_type": "code",
   "execution_count": 35,
   "metadata": {},
   "outputs": [],
   "source": [
    "# utility function to display a sudoku board\n",
    "def print_board(board):\n",
    "    for i in range(GRID_SIZE):\n",
    "        for j in range(GRID_SIZE):\n",
    "            print(board.nodes[i * GRID_SIZE + j]['color'], end=' ')\n",
    "        print()"
   ]
  },
  {
   "cell_type": "code",
   "execution_count": 36,
   "metadata": {},
   "outputs": [],
   "source": [
    "filtered_neigh, nonomino = init_nonomino_board(board_group_vals)\n",
    "nonomino = board_to_nx(nonomino, board_color_vals)"
   ]
  },
  {
   "cell_type": "code",
   "execution_count": 37,
   "metadata": {},
   "outputs": [
    {
     "name": "stdout",
     "output_type": "stream",
     "text": [
      "9 0 3 0 0 8 4 2 7 \n",
      "1 4 7 8 2 5 6 9 3 \n",
      "3 0 0 0 9 7 5 6 0 \n",
      "0 0 4 3 0 6 0 8 2 \n",
      "0 0 0 9 0 0 2 7 4 \n",
      "0 2 0 5 8 0 9 0 6 \n",
      "2 0 0 0 4 9 8 1 0 \n",
      "4 6 0 2 3 1 7 5 0 \n",
      "8 7 0 0 6 0 3 0 9 \n"
     ]
    }
   ],
   "source": [
    "print_board(nonomino)"
   ]
  },
  {
   "cell_type": "markdown",
   "metadata": {},
   "source": [
    "# Getting full adjacency matrix from nx-graph"
   ]
  },
  {
   "cell_type": "code",
   "execution_count": 38,
   "metadata": {},
   "outputs": [
    {
     "name": "stdout",
     "output_type": "stream",
     "text": [
      "Number of edges:  822\n",
      "Number of nodes:  81\n"
     ]
    }
   ],
   "source": [
    "print(\"Number of edges: \", nonomino.number_of_edges())\n",
    "print(\"Number of nodes: \", nonomino.number_of_nodes())"
   ]
  },
  {
   "cell_type": "code",
   "execution_count": 39,
   "metadata": {},
   "outputs": [],
   "source": [
    "sparse_adjacency_matrix = nx.adjacency_matrix(nonomino)"
   ]
  },
  {
   "cell_type": "code",
   "execution_count": 40,
   "metadata": {},
   "outputs": [],
   "source": [
    "dense_adjacency_matrix = sparse_adjacency_matrix.todense()\n",
    "adjacency_2d_array = np.squeeze(np.asarray(dense_adjacency_matrix)).tolist()"
   ]
  },
  {
   "cell_type": "code",
   "execution_count": 41,
   "metadata": {},
   "outputs": [],
   "source": [
    "# Python program for solution of M Coloring \n",
    "# problem using backtracking\n",
    " \n",
    "class Graph():\n",
    " \n",
    "    def __init__(self, nodeCount):\n",
    "        self.V = nodeCount\n",
    "        self.graph = [[0 for column in range(nodeCount)] for row in range(nodeCount)]\n",
    " \n",
    "    # A utility function to check \n",
    "    # if the current color assignment\n",
    "    # is safe for vertex v\n",
    "    def isSafe(self, v, colour, c):\n",
    "        for i in range(self.V):\n",
    "            if self.graph[v][i] == 1 and colour[i] == c:\n",
    "                return False\n",
    "        return True\n",
    "     \n",
    "    # A recursive utility function to solve m\n",
    "    # coloring  problem\n",
    "    def graphColourUtil(self, m, colour, v):\n",
    "        if v == self.V:\n",
    "            return True\n",
    " \n",
    "        for c in range(1, m + 1):\n",
    "            if self.isSafe(v, colour, c) == True:\n",
    "                colour[v] = c\n",
    "                if self.graphColourUtil(m, colour, v + 1) == True:\n",
    "                    return True\n",
    "                colour[v] = 0\n",
    " \n",
    "    def graphColouring(self, m):\n",
    "        colour = [0] * self.V\n",
    "        if self.graphColourUtil(m, colour, 0) == None:\n",
    "            return False\n",
    " \n",
    "        # Print the solution\n",
    "        print(\"Solution exist and following are the assigned colours:\")\n",
    "        for c in colour:\n",
    "            print(c, end=\" \")\n",
    "        return True\n",
    "    \n",
    "    def getNodeCount(self):\n",
    "        return self.V"
   ]
  },
  {
   "cell_type": "code",
   "execution_count": 42,
   "metadata": {},
   "outputs": [
    {
     "name": "stdout",
     "output_type": "stream",
     "text": [
      "\n",
      "Starting at: 2021-01-26 16:09:49.569612\n",
      "Solution exist and following are the assigned colours:\n",
      "1 2 3 4 5 6 7 8 9 5 6 7 1 2 8 9 3 4 3 8 9 6 4 7 1 2 5 2 1 4 3 7 5 6 9 8 7 5 6 2 3 9 8 4 1 8 9 1 5 6 4 3 7 2 4 3 8 7 9 1 2 5 6 9 4 2 8 1 3 5 6 7 6 7 5 9 8 2 4 1 3 \n",
      "Finishing at: 2021-01-26 16:10:22.848236\n",
      "exec time 0:00:33.278624 \n"
     ]
    }
   ],
   "source": [
    "g = Graph(int(GRID_SIZE ** 2))\n",
    "g.graph = adjacency_2d_array\n",
    "m = GRID_SIZE\n",
    "\n",
    "print()\n",
    "\n",
    "start = datetime.now()\n",
    "print(\"Starting at:\", start)\n",
    "\n",
    "g.graphColouring(m)\n",
    "\n",
    "end = datetime.now()\n",
    "print(\"\\nFinishing at:\", end)\n",
    "\n",
    "exec_time = end - start\n",
    "\n",
    "print(\"exec time %s \" % exec_time)"
   ]
  },
  {
   "cell_type": "code",
   "execution_count": null,
   "metadata": {},
   "outputs": [],
   "source": []
  }
 ],
 "metadata": {
  "kernelspec": {
   "display_name": "Python 3",
   "language": "python",
   "name": "python3"
  },
  "language_info": {
   "codemirror_mode": {
    "name": "ipython",
    "version": 3
   },
   "file_extension": ".py",
   "mimetype": "text/x-python",
   "name": "python",
   "nbconvert_exporter": "python",
   "pygments_lexer": "ipython3",
   "version": "3.8.3"
  }
 },
 "nbformat": 4,
 "nbformat_minor": 4
}
