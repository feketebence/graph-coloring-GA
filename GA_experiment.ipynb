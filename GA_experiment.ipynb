{
 "cells": [
  {
   "cell_type": "code",
   "execution_count": null,
   "metadata": {},
   "outputs": [],
   "source": [
    "import numpy as np\n",
    "import random\n",
    "import networkx as nx\n",
    "import copy\n",
    "import time"
   ]
  },
  {
   "cell_type": "code",
   "execution_count": null,
   "metadata": {},
   "outputs": [],
   "source": [
    "s_board = []\n",
    "\n",
    "with open(\"s02a.txt\", \"r\") as s_file:\n",
    "    lines = s_file.readlines()\n",
    "    s_board += [int(x) for line in lines for x in line.split()]\n",
    "    "
   ]
  },
  {
   "cell_type": "code",
   "execution_count": null,
   "metadata": {},
   "outputs": [],
   "source": [
    "GRID_SIZE = 9\n",
    "SQ_GRID = int(GRID_SIZE ** 0.5)\n",
    "\n",
    "def init_board():\n",
    "    sudoku = nx.Graph()\n",
    "    sudoku.add_nodes_from([\n",
    "        (i, {\"color\": 0, \"fixed\": False}) for i in range(81)\n",
    "    ])\n",
    "\n",
    "    for i in range(GRID_SIZE):\n",
    "        for j in range(GRID_SIZE):\n",
    "        \n",
    "            row_neighbours = [(i * GRID_SIZE + j, i * GRID_SIZE + x) for x in range(GRID_SIZE) if x != j]\n",
    "            col_neighbours = [(i * GRID_SIZE + j, x * GRID_SIZE + j) for x in range(GRID_SIZE) if x != i]\n",
    "        \n",
    "        \n",
    "            sqr_i = (i // SQ_GRID) * SQ_GRID\n",
    "            sqr_j = (j // SQ_GRID) * SQ_GRID\n",
    "            sqr_neighbours = [(i * GRID_SIZE + j, a * GRID_SIZE + b) for a in range(sqr_i, sqr_i + SQ_GRID) for b in range(sqr_j, sqr_j + SQ_GRID) \\\n",
    "                                if (a != i or b != j)]\n",
    "        \n",
    "            unfiltered_neigh = row_neighbours + col_neighbours + sqr_neighbours\n",
    "            filtered_neigh = list(set(unfiltered_neigh))\n",
    "        \n",
    "            sudoku.add_edges_from(filtered_neigh)\n",
    "\n",
    "    return sudoku"
   ]
  },
  {
   "cell_type": "code",
   "execution_count": null,
   "metadata": {},
   "outputs": [],
   "source": [
    "# convert a given list \"board\" to networkx board \n",
    "def board_to_nx(sudoku, board):\n",
    "    for i in range(GRID_SIZE):\n",
    "        for j in range(GRID_SIZE):\n",
    "            idx = i * GRID_SIZE + j\n",
    "            \n",
    "            if board[idx] != 0:\n",
    "                # 'fixed' means that the color of that node cannot be changed (during mutation or crossover)\n",
    "                sudoku.nodes[idx]['fixed'] = True\n",
    "                sudoku.nodes[idx]['color'] = board[idx]\n",
    "    return sudoku"
   ]
  },
  {
   "cell_type": "code",
   "execution_count": null,
   "metadata": {},
   "outputs": [],
   "source": [
    "# utility function to display a sudoku board\n",
    "def print_board(board):\n",
    "    for i in range(GRID_SIZE):\n",
    "        for j in range(GRID_SIZE):\n",
    "            print(board.nodes[i * GRID_SIZE + j]['color'], end=' ')\n",
    "        print()\n",
    "        "
   ]
  },
  {
   "cell_type": "code",
   "execution_count": null,
   "metadata": {},
   "outputs": [],
   "source": [
    "def create_population(n, base_board, max_color):\n",
    "    copies = [copy.deepcopy(base_board) for _ in range(n)]\n",
    "    \n",
    "    for graph in copies:\n",
    "        graph.graph['fitness'] = None\n",
    "        \n",
    "        for i in range(max_color):\n",
    "            \n",
    "            row_colors = [graph.nodes[i * max_color + j]['color'] for j in range(max_color)]\n",
    "            possible_colors = [(k + 1) for k in range(max_color) if not (k + 1) in row_colors]\n",
    "            \n",
    "            for j in range(max_color):\n",
    "                if graph.nodes[i * max_color + j]['fixed'] == False:\n",
    "                    color = random.choice(possible_colors)\n",
    "                    graph.nodes[i * max_color + j]['color'] = color\n",
    "                    possible_colors.remove(color)    \n",
    "                    \n",
    "    return copies"
   ]
  },
  {
   "cell_type": "markdown",
   "metadata": {},
   "source": [
    "## Calculate fitness"
   ]
  },
  {
   "cell_type": "code",
   "execution_count": null,
   "metadata": {},
   "outputs": [],
   "source": [
    "def fitness(population):\n",
    "    for individual in population:\n",
    "        if individual.graph['fitness'] != None:\n",
    "            continue\n",
    "    \n",
    "        fitness = 0\n",
    "        for edge in individual.edges:\n",
    "            if individual.nodes[edge[0]]['color'] == individual.nodes[edge[1]]['color']:\n",
    "                fitness -= 1\n",
    "        \n",
    "        individual.graph['fitness'] = fitness\n",
    "    \n",
    "    return population"
   ]
  },
  {
   "cell_type": "markdown",
   "metadata": {},
   "source": [
    "## Mutation"
   ]
  },
  {
   "cell_type": "code",
   "execution_count": null,
   "metadata": {},
   "outputs": [],
   "source": [
    "def swap_mutation(population, pm, max_color):\n",
    "    for instance in population:\n",
    "        mut_hap = False\n",
    "        \n",
    "        for i in range(max_color):\n",
    "            for j in range(max_color):\n",
    "                node = i * max_color + j\n",
    "                rn_node = random.randint(i * max_color, (i + 1) * max_color - 1)\n",
    "                \n",
    "                if instance.nodes[node]['fixed'] or instance.nodes[rn_node]['fixed']:\n",
    "                    continue\n",
    "                else:\n",
    "                    if random.random() <= pm:\n",
    "                        instance.nodes[node]['color'], instance.nodes[rn_node]['color'] = instance.nodes[rn_node]['color'], instance.nodes[node]['color']\n",
    "                        mut_hap = True\n",
    "        if mut_hap:\n",
    "            instance.graph['fitness'] = None\n",
    "            \n",
    "    return population\n",
    "            "
   ]
  },
  {
   "cell_type": "markdown",
   "metadata": {},
   "source": [
    "## Parent selection"
   ]
  },
  {
   "cell_type": "code",
   "execution_count": null,
   "metadata": {},
   "outputs": [],
   "source": [
    "def tournament_selection(population, k, possible):\n",
    "    \n",
    "    best = random.choice(possible)\n",
    "    \n",
    "    for i in range(k):\n",
    "        rnd_idx = random.choice(possible)\n",
    "        if population[rnd_idx].graph['fitness'] >= population[best].graph['fitness']:\n",
    "            best = rnd_idx\n",
    "            \n",
    "    return best\n",
    "    "
   ]
  },
  {
   "cell_type": "markdown",
   "metadata": {},
   "source": [
    "## Crossover"
   ]
  },
  {
   "cell_type": "code",
   "execution_count": null,
   "metadata": {},
   "outputs": [],
   "source": [
    "\"\"\"\n",
    "    Uniform crossover when a row on the table is a permutation\n",
    "    Specific to the sudoku problem.\n",
    "\"\"\"\n",
    "\n",
    "def crossover(p1, p2, pc):\n",
    "    o1, o2 = copy.deepcopy(p1), copy.deepcopy(p2)\n",
    "    \n",
    "    if random.random() > pc:\n",
    "        return o1, o2\n",
    "    \n",
    "    size = int(len(o1.nodes) ** 0.5)\n",
    "    for i in range(size):\n",
    "        if i%2:\n",
    "            for j in range(size):\n",
    "                node = i * size + j\n",
    "                o1.nodes[node]['color'], o2.nodes[node]['color'] = o2.nodes[node]['color'], o1.nodes[node]['color']\n",
    "                \n",
    "    o1.graph['fitness'] = None\n",
    "    o2.graph['fitness'] = None\n",
    "    \n",
    "    return o1, o2"
   ]
  },
  {
   "cell_type": "markdown",
   "metadata": {},
   "source": [
    "## Survivor selection"
   ]
  },
  {
   "cell_type": "code",
   "execution_count": null,
   "metadata": {},
   "outputs": [],
   "source": [
    "# choose N best individuals from population\n",
    "def elitism_selection(population, N):\n",
    "    new_pop = []\n",
    "    \n",
    "    while len(new_pop) != N:\n",
    "        best = population[0]\n",
    "        \n",
    "        for individual in population:\n",
    "            if individual.graph['fitness'] > best.graph['fitness']:\n",
    "                best = individual\n",
    "                \n",
    "        new_pop.append(best)\n",
    "        population.remove(best)\n",
    "        \n",
    "    return new_pop"
   ]
  },
  {
   "cell_type": "markdown",
   "metadata": {},
   "source": [
    "## Genetic algorithm"
   ]
  },
  {
   "cell_type": "code",
   "execution_count": null,
   "metadata": {},
   "outputs": [],
   "source": [
    "# check if any of the individuals is a complete solution\n",
    "def solution(population):\n",
    "    for ind in population:\n",
    "        if ind.graph['fitness'] == 0:\n",
    "            return True\n",
    "    return False"
   ]
  },
  {
   "cell_type": "code",
   "execution_count": null,
   "metadata": {},
   "outputs": [],
   "source": [
    "# find the best individual of a population\n",
    "def find_best(population):\n",
    "    best = population[0]\n",
    "    \n",
    "    for ind in population:\n",
    "        if ind.graph['fitness'] > best.graph['fitness']:\n",
    "            best = ind\n",
    "            \n",
    "    return best"
   ]
  },
  {
   "cell_type": "code",
   "execution_count": null,
   "metadata": {},
   "outputs": [],
   "source": [
    "def genetic_algorithm(sudoku,\n",
    "                      create_fn, fitness_fn, selection_fn, solution_fn,\n",
    "                      crossover_fn, mutation_fn, survivor_fn, best_fn,\n",
    "                      # optional params\n",
    "                      grid_size=9, pop_size=11, p_m=0.03, p_c=0.9,\n",
    "                      mating_pool=2, s_pres=7, max_gen=500_000):\n",
    "    \n",
    "    GRID_SIZE = grid_size\n",
    "    \n",
    "    # initialize GA parameters\n",
    "    POP_SIZE = pop_size\n",
    "    P_MUTATION = p_m\n",
    "    P_CROSSOVER = p_c\n",
    "    N_MATING_POOL = mating_pool\n",
    "    # selection pressure for tournament selection\n",
    "    S_PRESSURE = s_pres\n",
    "    MAX_GENER = max_gen\n",
    "\n",
    "    generation = 0\n",
    "\n",
    "    # init population\n",
    "    population = create_fn(POP_SIZE, sudoku, GRID_SIZE)\n",
    "    population = fitness_fn(population)\n",
    "\n",
    "    while not solution_fn(population):\n",
    "    \n",
    "        # select parents\n",
    "        possible_parents = [i for i in range(POP_SIZE)]\n",
    "        parents = []\n",
    "    \n",
    "        for i in range(N_MATING_POOL):\n",
    "            p1 = selection_fn(population, S_PRESSURE, possible_parents)\n",
    "            possible_parents.remove(p1)\n",
    "            p2 = selection_fn(population, S_PRESSURE, possible_parents)\n",
    "        \n",
    "            possible_parents.remove(p2)\n",
    "\n",
    "            parents.append((p1, p2))\n",
    "        \n",
    "        # crossover\n",
    "        for (p1, p2) in parents:\n",
    "            o1, o2 = crossover_fn(population[p1], population[p2], P_CROSSOVER)\n",
    "            # add new offspring to population\n",
    "            population += [o1, o2]\n",
    "        \n",
    "        # mutation\n",
    "        population = mutation_fn(population, P_MUTATION, GRID_SIZE)\n",
    "    \n",
    "        # evaluate fitness\n",
    "        population = fitness_fn(population)\n",
    "    \n",
    "        # select survivors\n",
    "        population = survivor_fn(population, POP_SIZE)\n",
    "    \n",
    "        # print best score\n",
    "        if generation % 100 == 0:\n",
    "            best = best_fn(population)\n",
    "            print(\"Generation {}. best score: {}\".format(generation, best.graph['fitness']))\n",
    "    \n",
    "        generation += 1\n",
    "    \n",
    "        if generation == MAX_GENER:\n",
    "            break\n",
    "            \n",
    "    return find_best(population), generation"
   ]
  },
  {
   "cell_type": "code",
   "execution_count": null,
   "metadata": {
    "scrolled": true,
    "tags": []
   },
   "outputs": [],
   "source": [
    "#sol, n_gens = genetic_algorithm(sudoku, create_population, fitness,\n",
    "#                               tournament_selection, solution, crossover,\n",
    "#                               swap_mutation, elitism_selection, find_best)"
   ]
  },
  {
   "cell_type": "markdown",
   "metadata": {},
   "source": [
    "## Experiments"
   ]
  },
  {
   "cell_type": "code",
   "execution_count": null,
   "metadata": {},
   "outputs": [],
   "source": [
    "s_board = []\n",
    "\n",
    "with open(\"s1.txt\", \"r\") as s_file:\n",
    "    lines = s_file.readlines()\n",
    "    s_board += [int(x) for line in lines for x in line.split()]\n",
    "    \n",
    "sudoku = init_board()\n",
    "sudoku = board_to_nx(sudoku, s_board)"
   ]
  },
  {
   "cell_type": "code",
   "execution_count": null,
   "metadata": {
    "scrolled": false
   },
   "outputs": [],
   "source": [
    "n_generations = []\n",
    "time_run = []\n",
    "N_EXPERIMENTS = 10\n",
    "\n",
    "pop_size = [10, 20, 30]\n",
    "p_mutation = [0.03, 0.07]\n",
    "p_crossover = [0.9, 1.]\n",
    "selection_pressure = [5, 10]\n",
    "\n",
    "for p_size in pop_size:\n",
    "    for p_m in p_mutation:\n",
    "        for p_c in p_crossover:\n",
    "            for s_pres in selection_pressure:\n",
    "                print(\"Parameters: {}, {}, {}, {}.\".format(str(p_size), str(p_m), \n",
    "                                                            str(p_c), str(s_pres)))\n",
    "                \n",
    "                for i in range(N_EXPERIMENTS):\n",
    "                    stime = time.time()\n",
    "                    print(\"Experiment {}:\".format(str(i)))\n",
    "                    sol, n_gens = genetic_algorithm(sudoku, create_population, fitness,\n",
    "                               tournament_selection, solution, crossover,\n",
    "                               swap_mutation, elitism_selection, find_best,\n",
    "                                pop_size=p_size, p_m=p_m, p_c=p_c, s_pres=s_pres, max_gen=100_000)\n",
    "                    \n",
    "                    time_run.append(time.time() - stime)\n",
    "                    n_generations.append(n_gens)\n",
    "                \n",
    "                mean_gen = sum(n_generations) / len(n_generations)\n",
    "                std_gen = (sum([(x - mean_gen) ** 2 for x in n_generations]) / (len(n_generations) - 1)) ** 0.5\n",
    "                print(\"Mean: {}; Std: {}\".format(str(mean_gen), str(std_gen)))\n",
    "                \n",
    "                mean_time = sum(time_run) / len(time_run)\n",
    "                std_time = (sum([(x - mean_time) ** 2 for x in time_run]) / (len(time_run) - 1)) ** 0.5\n",
    "                print(\"Time mean: {}; Std: {}\".format(str(mean_time), str(std_time)))\n",
    "\n"
   ]
  }
 ],
 "metadata": {
  "kernelspec": {
   "display_name": "Python 3",
   "language": "python",
   "name": "python3"
  },
  "language_info": {
   "codemirror_mode": {
    "name": "ipython",
    "version": 3
   },
   "file_extension": ".py",
   "mimetype": "text/x-python",
   "name": "python",
   "nbconvert_exporter": "python",
   "pygments_lexer": "ipython3",
   "version": "3.7.8"
  }
 },
 "nbformat": 4,
 "nbformat_minor": 4
}
