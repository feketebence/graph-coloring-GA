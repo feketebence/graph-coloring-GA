{
 "cells": [
  {
   "cell_type": "markdown",
   "metadata": {},
   "source": [
    "Ez a függvény biztosítja számunkra azt, hogy az elemek ne ismétlődjenek."
   ]
  },
  {
   "cell_type": "code",
   "execution_count": 1,
   "metadata": {},
   "outputs": [],
   "source": [
    "def pattern(i,j): \n",
    "    return (3*(i%3)+i//3+j)%9"
   ]
  },
  {
   "cell_type": "code",
   "execution_count": 2,
   "metadata": {},
   "outputs": [],
   "source": [
    "# randomize rows, columns and numbers (of valid base pattern)\n",
    "from random import sample"
   ]
  },
  {
   "cell_type": "markdown",
   "metadata": {},
   "source": [
    "Függvény, amely majd összekeveri a számokat"
   ]
  },
  {
   "cell_type": "code",
   "execution_count": 3,
   "metadata": {},
   "outputs": [],
   "source": [
    "def shuffle(s): \n",
    "    return sample(s,len(s)) "
   ]
  },
  {
   "cell_type": "code",
   "execution_count": 4,
   "metadata": {},
   "outputs": [],
   "source": [
    "# produce board using randomized baseline pattern"
   ]
  },
  {
   "cell_type": "code",
   "execution_count": 5,
   "metadata": {},
   "outputs": [],
   "source": [
    "rBase = range(3) "
   ]
  },
  {
   "cell_type": "markdown",
   "metadata": {},
   "source": [
    "A sorok indexeit random fogjuk legenerálni, a shuffle() segítségével"
   ]
  },
  {
   "cell_type": "code",
   "execution_count": 6,
   "metadata": {},
   "outputs": [],
   "source": [
    "row = []\n",
    "for i in shuffle(rBase):\n",
    "    for j in shuffle(rBase):\n",
    "        row.append(j*3 + i)"
   ]
  },
  {
   "cell_type": "markdown",
   "metadata": {},
   "source": [
    " Pl.1. kör:  i=1 j =0 => 1\n",
    "             i=1 j=2 => 7\n",
    "             i=1 j=1 => 4 \n",
    "    2.       i=2 j=2 => 8\n",
    "             i=2 j=1 => 5\n",
    "             i=2 j=0 => 2\n",
    "    3.       i=0 j=3 => 3\n",
    "             i=0 j=2 =>6\n",
    "             i=0 j=0 =>0"
   ]
  },
  {
   "cell_type": "code",
   "execution_count": 7,
   "metadata": {},
   "outputs": [
    {
     "data": {
      "text/plain": [
       "[4, 7, 1, 5, 8, 2, 3, 6, 0]"
      ]
     },
     "execution_count": 7,
     "metadata": {},
     "output_type": "execute_result"
    }
   ],
   "source": [
    "row"
   ]
  },
  {
   "cell_type": "markdown",
   "metadata": {},
   "source": [
    "Hasonló módon az oszlopok indexeit is"
   ]
  },
  {
   "cell_type": "code",
   "execution_count": 8,
   "metadata": {},
   "outputs": [],
   "source": [
    "column = []\n",
    "for i in shuffle(rBase):\n",
    "    for j in shuffle(rBase):\n",
    "        column.append(j*3 + i)"
   ]
  },
  {
   "cell_type": "code",
   "execution_count": 9,
   "metadata": {},
   "outputs": [
    {
     "data": {
      "text/plain": [
       "[5, 2, 8, 6, 0, 3, 7, 4, 1]"
      ]
     },
     "execution_count": 9,
     "metadata": {},
     "output_type": "execute_result"
    }
   ],
   "source": [
    "column"
   ]
  },
  {
   "cell_type": "markdown",
   "metadata": {},
   "source": [
    "Pl. [5, 8, 2, 1, 4, 7, 0, 6, 3]\n"
   ]
  },
  {
   "cell_type": "markdown",
   "metadata": {},
   "source": [
    "A számjegyek, amelyek szerepelnek a Sudokuban, szintén összekeverve."
   ]
  },
  {
   "cell_type": "code",
   "execution_count": 10,
   "metadata": {},
   "outputs": [],
   "source": [
    "nums = shuffle(range(1,3*3+1))"
   ]
  },
  {
   "cell_type": "code",
   "execution_count": 11,
   "metadata": {},
   "outputs": [
    {
     "data": {
      "text/plain": [
       "[2, 1, 3, 7, 9, 4, 5, 6, 8]"
      ]
     },
     "execution_count": 11,
     "metadata": {},
     "output_type": "execute_result"
    }
   ],
   "source": [
    "nums"
   ]
  },
  {
   "cell_type": "markdown",
   "metadata": {},
   "source": [
    "Egyenként kigeneráljuk a rács tagjait."
   ]
  },
  {
   "cell_type": "code",
   "execution_count": 12,
   "metadata": {},
   "outputs": [],
   "source": [
    "grid = [ [nums[pattern(i,j)] for j in column] for i in row ]"
   ]
  },
  {
   "cell_type": "code",
   "execution_count": 13,
   "metadata": {},
   "outputs": [
    {
     "data": {
      "text/plain": [
       "[[2, 5, 7, 1, 9, 6, 3, 8, 4],\n",
       " [1, 6, 9, 3, 4, 8, 7, 2, 5],\n",
       " [8, 4, 3, 2, 7, 5, 1, 6, 9],\n",
       " [7, 2, 5, 9, 6, 1, 4, 3, 8],\n",
       " [9, 1, 6, 4, 8, 3, 5, 7, 2],\n",
       " [3, 8, 4, 7, 5, 2, 9, 1, 6],\n",
       " [5, 7, 2, 6, 1, 9, 8, 4, 3],\n",
       " [6, 9, 1, 8, 3, 4, 2, 5, 7],\n",
       " [4, 3, 8, 5, 2, 7, 6, 9, 1]]"
      ]
     },
     "execution_count": 13,
     "metadata": {},
     "output_type": "execute_result"
    }
   ],
   "source": [
    "grid"
   ]
  },
  {
   "cell_type": "markdown",
   "metadata": {},
   "source": [
    "Random módon lenullázunk néhány értéket."
   ]
  },
  {
   "cell_type": "code",
   "execution_count": 14,
   "metadata": {},
   "outputs": [
    {
     "name": "stdout",
     "output_type": "stream",
     "text": [
      "[2, 0, 0, 0, 9, 0, 0, 0, 4]\n",
      "[0, 6, 9, 0, 4, 0, 0, 0, 5]\n",
      "[0, 0, 3, 0, 7, 0, 0, 0, 9]\n",
      "[0, 0, 5, 0, 6, 0, 0, 3, 8]\n",
      "[9, 0, 0, 0, 0, 3, 0, 7, 2]\n",
      "[0, 8, 0, 0, 5, 2, 9, 0, 0]\n",
      "[0, 7, 2, 0, 1, 0, 0, 0, 0]\n",
      "[0, 0, 0, 0, 0, 4, 2, 0, 0]\n",
      "[0, 3, 0, 5, 2, 0, 6, 0, 0]\n"
     ]
    }
   ],
   "source": [
    "squares = 9*9\n",
    "for p in sample(range(squares),50): #itt adjuk meg hogy hány 0 legyen Pl. 76, összesen 81 érték van\n",
    "    grid[p//9][p%9] = 0\n",
    "for line in grid:\n",
    "    print(line)"
   ]
  },
  {
   "cell_type": "markdown",
   "metadata": {},
   "source": [
    "Külalak, annak érdekében, hogy látszodjanak a 3X3-as mátrixok."
   ]
  },
  {
   "cell_type": "code",
   "execution_count": 15,
   "metadata": {},
   "outputs": [],
   "source": [
    "def racsok(grid):\n",
    "    racs = \"|--------------------------------|\"\n",
    "    print(racs)\n",
    "    for i in range(9):\n",
    "        for j in range(9):\n",
    "            if ((i == 3 or i == 6) and j == 0):\n",
    "                print(racs)\n",
    "            if (j == 0 or j == 3 or j == 6):\n",
    "                print(\"|\", end = \" \")\n",
    "            print(\" \" + str(grid[i][j]), end=\" \")\n",
    "            if (j == 8):\n",
    "                print(\"|\")\n",
    "    print(racs)"
   ]
  },
  {
   "cell_type": "code",
   "execution_count": 16,
   "metadata": {},
   "outputs": [
    {
     "name": "stdout",
     "output_type": "stream",
     "text": [
      "|--------------------------------|\n",
      "|  2  0  0 |  0  9  0 |  0  0  4 |\n",
      "|  0  6  9 |  0  4  0 |  0  0  5 |\n",
      "|  0  0  3 |  0  7  0 |  0  0  9 |\n",
      "|--------------------------------|\n",
      "|  0  0  5 |  0  6  0 |  0  3  8 |\n",
      "|  9  0  0 |  0  0  3 |  0  7  2 |\n",
      "|  0  8  0 |  0  5  2 |  9  0  0 |\n",
      "|--------------------------------|\n",
      "|  0  7  2 |  0  1  0 |  0  0  0 |\n",
      "|  0  0  0 |  0  0  4 |  2  0  0 |\n",
      "|  0  3  0 |  5  2  0 |  6  0  0 |\n",
      "|--------------------------------|\n"
     ]
    }
   ],
   "source": [
    "racsok(grid)"
   ]
  },
  {
   "cell_type": "code",
   "execution_count": 17,
   "metadata": {},
   "outputs": [],
   "source": [
    "#meg kell kapjuk az üres értékeket\n",
    "def find_next_empty(grid):\n",
    "    for i in range(9):\n",
    "        for j in range(9):\n",
    "            if grid[i][j] == 0: #ha 0 az illető érték akkor a \"koordinátákat\" térítjük vissza\n",
    "                return i,j\n",
    "    return None, None"
   ]
  },
  {
   "cell_type": "code",
   "execution_count": 18,
   "metadata": {},
   "outputs": [],
   "source": [
    "def is_valid(puzzle, guess, row, column):\n",
    "    \n",
    "    #sort ellenőrízzük\n",
    "    row_vals = grid[row] \n",
    "    if guess in row_vals: #ha a talalat benne van a sorban akkor az nem jo (return False) \n",
    "        return False\n",
    "    \n",
    "    #oszlopot\n",
    "    column_vals = []\n",
    "    for i in range(9):\n",
    "        column_vals.append(grid[i][column])\n",
    "    \n",
    "    if guess in column_vals: #ugyanugy ha az illeto oszlopban van benne\n",
    "        return False\n",
    "    \n",
    "    #3X3-as mátrixokat nezzuk\n",
    "    row_start = (row // 3) * 3\n",
    "    column_start = (column // 3) * 3\n",
    "    \n",
    "    for i in range(row_start, row_start + 3):\n",
    "        for j in range(column_start, column_start+3):\n",
    "            if grid[i][j] == guess:\n",
    "                return False\n",
    "            \n",
    "    return True"
   ]
  },
  {
   "cell_type": "code",
   "execution_count": 19,
   "metadata": {},
   "outputs": [],
   "source": [
    "def solve_sudoku(grid):\n",
    "    \n",
    "    #soron következő üres érték\n",
    "    row, column = find_next_empty(grid) #ide az jon amit a find_next_empty fugvenyben visszateritettunk: i,j\n",
    "    if row is None:\n",
    "        return True\n",
    "    \n",
    "    for guess in range(1,10):\n",
    "        if is_valid(grid, guess, row, column): #ha helyes minden előbbi szempontból vizsgálva \"guess\", \n",
    "                                               #akkor betesszük az illető helyre\n",
    "            grid[row][column] = guess\n",
    "                \n",
    "            #backtracking rész\n",
    "\n",
    "            if solve_sudoku(grid):\n",
    "                return True\n",
    "        \n",
    "        grid[row][column] = 0\n",
    "        \n",
    "    return False "
   ]
  },
  {
   "cell_type": "code",
   "execution_count": 20,
   "metadata": {},
   "outputs": [
    {
     "data": {
      "text/plain": [
       "True"
      ]
     },
     "execution_count": 20,
     "metadata": {},
     "output_type": "execute_result"
    }
   ],
   "source": [
    "#meghivjuk a függvényt a gridünkre\n",
    "solve_sudoku(grid)"
   ]
  },
  {
   "cell_type": "markdown",
   "metadata": {},
   "source": [
    "True-t térít vissza, ha van megoldása a sudokunak, False-t, ha nincs."
   ]
  },
  {
   "cell_type": "code",
   "execution_count": 21,
   "metadata": {},
   "outputs": [
    {
     "data": {
      "text/plain": [
       "[[2, 1, 8, 3, 9, 5, 7, 6, 4],\n",
       " [7, 6, 9, 2, 4, 1, 3, 8, 5],\n",
       " [4, 5, 3, 6, 7, 8, 1, 2, 9],\n",
       " [1, 2, 5, 7, 6, 9, 4, 3, 8],\n",
       " [9, 4, 6, 1, 8, 3, 5, 7, 2],\n",
       " [3, 8, 7, 4, 5, 2, 9, 1, 6],\n",
       " [5, 7, 2, 9, 1, 6, 8, 4, 3],\n",
       " [6, 9, 1, 8, 3, 4, 2, 5, 7],\n",
       " [8, 3, 4, 5, 2, 7, 6, 9, 1]]"
      ]
     },
     "execution_count": 21,
     "metadata": {},
     "output_type": "execute_result"
    }
   ],
   "source": [
    "grid"
   ]
  },
  {
   "cell_type": "markdown",
   "metadata": {},
   "source": [
    "Elvileg a megoldás nem lesz feltétlenül az, ami az eredetileg létrehozott sudoku volt, abban az esetben persze, ha sok a hiányzó érték, azaz sok a nullás"
   ]
  }
 ],
 "metadata": {
  "kernelspec": {
   "display_name": "Python 3",
   "language": "python",
   "name": "python3"
  },
  "language_info": {
   "codemirror_mode": {
    "name": "ipython",
    "version": 3
   },
   "file_extension": ".py",
   "mimetype": "text/x-python",
   "name": "python",
   "nbconvert_exporter": "python",
   "pygments_lexer": "ipython3",
   "version": "3.8.3"
  }
 },
 "nbformat": 4,
 "nbformat_minor": 4
}
